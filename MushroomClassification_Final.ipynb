{
  "nbformat": 4,
  "nbformat_minor": 0,
  "metadata": {
    "colab": {
      "name": "mushroom3.ipynb",
      "provenance": [],
      "collapsed_sections": [],
      "authorship_tag": "ABX9TyOwOrltFhFlRWwYqgabxE5Z",
      "include_colab_link": true
    },
    "kernelspec": {
      "name": "python3",
      "display_name": "Python 3"
    },
    "language_info": {
      "name": "python"
    }
  },
  "cells": [
    {
      "cell_type": "markdown",
      "metadata": {
        "id": "view-in-github",
        "colab_type": "text"
      },
      "source": [
        "<a href=\"https://colab.research.google.com/github/BigDataBros/MSDS462-Griser/blob/main/MushroomClassification_Final.ipynb\" target=\"_parent\"><img src=\"https://colab.research.google.com/assets/colab-badge.svg\" alt=\"Open In Colab\"/></a>"
      ]
    },
    {
      "cell_type": "code",
      "source": [
        "!git clone https://github.com/BigDataBros/MSDS462-Griser.git"
      ],
      "metadata": {
        "colab": {
          "base_uri": "https://localhost:8080/"
        },
        "id": "v6d3o9tcLp7l",
        "outputId": "c19934a3-875e-4c33-9087-810991e5f06f"
      },
      "execution_count": null,
      "outputs": [
        {
          "output_type": "stream",
          "name": "stdout",
          "text": [
            "Cloning into 'MSDS462-Griser'...\n",
            "remote: Enumerating objects: 8684, done.\u001b[K\n",
            "remote: Counting objects: 100% (5/5), done.\u001b[K\n",
            "remote: Compressing objects: 100% (4/4), done.\u001b[K\n",
            "remote: Total 8684 (delta 1), reused 5 (delta 1), pack-reused 8679\u001b[K\n",
            "Receiving objects: 100% (8684/8684), 637.42 MiB | 41.89 MiB/s, done.\n",
            "Resolving deltas: 100% (9/9), done.\n",
            "Checking out files: 100% (17625/17625), done.\n"
          ]
        }
      ]
    },
    {
      "cell_type": "code",
      "execution_count": null,
      "metadata": {
        "colab": {
          "base_uri": "https://localhost:8080/"
        },
        "id": "upDGE_pIvpwt",
        "outputId": "53438558-e64f-4386-c85b-677302ca86a7"
      },
      "outputs": [
        {
          "output_type": "stream",
          "name": "stdout",
          "text": [
            "Looking in indexes: https://pypi.org/simple, https://us-python.pkg.dev/colab-wheels/public/simple/\n",
            "Requirement already satisfied: tflite-model-maker in /usr/local/lib/python3.7/dist-packages (0.4.0)\n",
            "Requirement already satisfied: numba==0.53 in /usr/local/lib/python3.7/dist-packages (from tflite-model-maker) (0.53.0)\n",
            "Requirement already satisfied: tensorflow-addons>=0.11.2 in /usr/local/lib/python3.7/dist-packages (from tflite-model-maker) (0.17.0)\n",
            "Requirement already satisfied: lxml>=4.6.1 in /usr/local/lib/python3.7/dist-packages (from tflite-model-maker) (4.9.0)\n",
            "Requirement already satisfied: absl-py>=0.10.0 in /usr/local/lib/python3.7/dist-packages (from tflite-model-maker) (1.0.0)\n",
            "Requirement already satisfied: neural-structured-learning>=1.3.1 in /usr/local/lib/python3.7/dist-packages (from tflite-model-maker) (1.3.1)\n",
            "Requirement already satisfied: tflite-support>=0.4.0 in /usr/local/lib/python3.7/dist-packages (from tflite-model-maker) (0.4.1)\n",
            "Requirement already satisfied: urllib3!=1.25.0,!=1.25.1,<1.26,>=1.21.1 in /usr/local/lib/python3.7/dist-packages (from tflite-model-maker) (1.24.3)\n",
            "Requirement already satisfied: flatbuffers==1.12 in /usr/local/lib/python3.7/dist-packages (from tflite-model-maker) (1.12)\n",
            "Requirement already satisfied: tf-models-official==2.3.0 in /usr/local/lib/python3.7/dist-packages (from tflite-model-maker) (2.3.0)\n",
            "Requirement already satisfied: six>=1.12.0 in /usr/local/lib/python3.7/dist-packages (from tflite-model-maker) (1.15.0)\n",
            "Requirement already satisfied: tensorflow-datasets>=2.1.0 in /usr/local/lib/python3.7/dist-packages (from tflite-model-maker) (4.0.1)\n",
            "Requirement already satisfied: Cython>=0.29.13 in /usr/local/lib/python3.7/dist-packages (from tflite-model-maker) (0.29.30)\n",
            "Requirement already satisfied: tensorflow-hub<0.13,>=0.7.0 in /usr/local/lib/python3.7/dist-packages (from tflite-model-maker) (0.12.0)\n",
            "Requirement already satisfied: scann>=1.2.6 in /usr/local/lib/python3.7/dist-packages (from tflite-model-maker) (1.2.6)\n",
            "Requirement already satisfied: fire>=0.3.1 in /usr/local/lib/python3.7/dist-packages (from tflite-model-maker) (0.4.0)\n",
            "Requirement already satisfied: matplotlib<3.5.0,>=3.0.3 in /usr/local/lib/python3.7/dist-packages (from tflite-model-maker) (3.2.2)\n",
            "Requirement already satisfied: pillow>=7.0.0 in /usr/local/lib/python3.7/dist-packages (from tflite-model-maker) (7.1.2)\n",
            "Requirement already satisfied: tensorflow-model-optimization>=0.5 in /usr/local/lib/python3.7/dist-packages (from tflite-model-maker) (0.7.2)\n",
            "Requirement already satisfied: sentencepiece>=0.1.91 in /usr/local/lib/python3.7/dist-packages (from tflite-model-maker) (0.1.96)\n",
            "Requirement already satisfied: numpy>=1.17.3 in /usr/local/lib/python3.7/dist-packages (from tflite-model-maker) (1.21.6)\n",
            "Requirement already satisfied: librosa==0.8.1 in /usr/local/lib/python3.7/dist-packages (from tflite-model-maker) (0.8.1)\n",
            "Requirement already satisfied: tensorflow>=2.6.0 in /usr/local/lib/python3.7/dist-packages (from tflite-model-maker) (2.8.2+zzzcolab20220527125636)\n",
            "Requirement already satisfied: PyYAML>=5.1 in /usr/local/lib/python3.7/dist-packages (from tflite-model-maker) (6.0)\n",
            "Requirement already satisfied: tensorflowjs>=2.4.0 in /usr/local/lib/python3.7/dist-packages (from tflite-model-maker) (3.18.0)\n",
            "Requirement already satisfied: scipy>=1.0.0 in /usr/local/lib/python3.7/dist-packages (from librosa==0.8.1->tflite-model-maker) (1.4.1)\n",
            "Requirement already satisfied: soundfile>=0.10.2 in /usr/local/lib/python3.7/dist-packages (from librosa==0.8.1->tflite-model-maker) (0.10.3.post1)\n",
            "Requirement already satisfied: pooch>=1.0 in /usr/local/lib/python3.7/dist-packages (from librosa==0.8.1->tflite-model-maker) (1.6.0)\n",
            "Requirement already satisfied: resampy>=0.2.2 in /usr/local/lib/python3.7/dist-packages (from librosa==0.8.1->tflite-model-maker) (0.2.2)\n",
            "Requirement already satisfied: scikit-learn!=0.19.0,>=0.14.0 in /usr/local/lib/python3.7/dist-packages (from librosa==0.8.1->tflite-model-maker) (1.0.2)\n",
            "Requirement already satisfied: packaging>=20.0 in /usr/local/lib/python3.7/dist-packages (from librosa==0.8.1->tflite-model-maker) (20.9)\n",
            "Requirement already satisfied: audioread>=2.0.0 in /usr/local/lib/python3.7/dist-packages (from librosa==0.8.1->tflite-model-maker) (2.1.9)\n",
            "Requirement already satisfied: decorator>=3.0.0 in /usr/local/lib/python3.7/dist-packages (from librosa==0.8.1->tflite-model-maker) (4.4.2)\n",
            "Requirement already satisfied: joblib>=0.14 in /usr/local/lib/python3.7/dist-packages (from librosa==0.8.1->tflite-model-maker) (1.1.0)\n",
            "Requirement already satisfied: llvmlite<0.37,>=0.36.0rc1 in /usr/local/lib/python3.7/dist-packages (from numba==0.53->tflite-model-maker) (0.36.0)\n",
            "Requirement already satisfied: setuptools in /usr/local/lib/python3.7/dist-packages (from numba==0.53->tflite-model-maker) (57.4.0)\n",
            "Requirement already satisfied: kaggle>=1.3.9 in /usr/local/lib/python3.7/dist-packages (from tf-models-official==2.3.0->tflite-model-maker) (1.5.12)\n",
            "Requirement already satisfied: gin-config in /usr/local/lib/python3.7/dist-packages (from tf-models-official==2.3.0->tflite-model-maker) (0.5.0)\n",
            "Requirement already satisfied: google-cloud-bigquery>=0.31.0 in /usr/local/lib/python3.7/dist-packages (from tf-models-official==2.3.0->tflite-model-maker) (1.21.0)\n",
            "Requirement already satisfied: pandas>=0.22.0 in /usr/local/lib/python3.7/dist-packages (from tf-models-official==2.3.0->tflite-model-maker) (1.3.5)\n",
            "Requirement already satisfied: tf-slim>=1.1.0 in /usr/local/lib/python3.7/dist-packages (from tf-models-official==2.3.0->tflite-model-maker) (1.1.0)\n",
            "Requirement already satisfied: dataclasses in /usr/local/lib/python3.7/dist-packages (from tf-models-official==2.3.0->tflite-model-maker) (0.6)\n",
            "Requirement already satisfied: opencv-python-headless in /usr/local/lib/python3.7/dist-packages (from tf-models-official==2.3.0->tflite-model-maker) (4.5.5.64)\n",
            "Requirement already satisfied: py-cpuinfo>=3.3.0 in /usr/local/lib/python3.7/dist-packages (from tf-models-official==2.3.0->tflite-model-maker) (8.0.0)\n",
            "Requirement already satisfied: psutil>=5.4.3 in /usr/local/lib/python3.7/dist-packages (from tf-models-official==2.3.0->tflite-model-maker) (5.4.8)\n",
            "Requirement already satisfied: google-api-python-client>=1.6.7 in /usr/local/lib/python3.7/dist-packages (from tf-models-official==2.3.0->tflite-model-maker) (1.12.11)\n",
            "Requirement already satisfied: termcolor in /usr/local/lib/python3.7/dist-packages (from fire>=0.3.1->tflite-model-maker) (1.1.0)\n",
            "Requirement already satisfied: google-api-core<3dev,>=1.21.0 in /usr/local/lib/python3.7/dist-packages (from google-api-python-client>=1.6.7->tf-models-official==2.3.0->tflite-model-maker) (1.31.6)\n",
            "Requirement already satisfied: google-auth<3dev,>=1.16.0 in /usr/local/lib/python3.7/dist-packages (from google-api-python-client>=1.6.7->tf-models-official==2.3.0->tflite-model-maker) (1.35.0)\n",
            "Requirement already satisfied: google-auth-httplib2>=0.0.3 in /usr/local/lib/python3.7/dist-packages (from google-api-python-client>=1.6.7->tf-models-official==2.3.0->tflite-model-maker) (0.0.4)\n",
            "Requirement already satisfied: uritemplate<4dev,>=3.0.0 in /usr/local/lib/python3.7/dist-packages (from google-api-python-client>=1.6.7->tf-models-official==2.3.0->tflite-model-maker) (3.0.1)\n",
            "Requirement already satisfied: httplib2<1dev,>=0.15.0 in /usr/local/lib/python3.7/dist-packages (from google-api-python-client>=1.6.7->tf-models-official==2.3.0->tflite-model-maker) (0.17.4)\n",
            "Requirement already satisfied: googleapis-common-protos<2.0dev,>=1.6.0 in /usr/local/lib/python3.7/dist-packages (from google-api-core<3dev,>=1.21.0->google-api-python-client>=1.6.7->tf-models-official==2.3.0->tflite-model-maker) (1.56.2)\n",
            "Requirement already satisfied: protobuf<4.0.0dev,>=3.12.0 in /usr/local/lib/python3.7/dist-packages (from google-api-core<3dev,>=1.21.0->google-api-python-client>=1.6.7->tf-models-official==2.3.0->tflite-model-maker) (3.19.4)\n",
            "Requirement already satisfied: requests<3.0.0dev,>=2.18.0 in /usr/local/lib/python3.7/dist-packages (from google-api-core<3dev,>=1.21.0->google-api-python-client>=1.6.7->tf-models-official==2.3.0->tflite-model-maker) (2.23.0)\n",
            "Requirement already satisfied: pytz in /usr/local/lib/python3.7/dist-packages (from google-api-core<3dev,>=1.21.0->google-api-python-client>=1.6.7->tf-models-official==2.3.0->tflite-model-maker) (2022.1)\n",
            "Requirement already satisfied: rsa<5,>=3.1.4 in /usr/local/lib/python3.7/dist-packages (from google-auth<3dev,>=1.16.0->google-api-python-client>=1.6.7->tf-models-official==2.3.0->tflite-model-maker) (4.8)\n",
            "Requirement already satisfied: pyasn1-modules>=0.2.1 in /usr/local/lib/python3.7/dist-packages (from google-auth<3dev,>=1.16.0->google-api-python-client>=1.6.7->tf-models-official==2.3.0->tflite-model-maker) (0.2.8)\n",
            "Requirement already satisfied: cachetools<5.0,>=2.0.0 in /usr/local/lib/python3.7/dist-packages (from google-auth<3dev,>=1.16.0->google-api-python-client>=1.6.7->tf-models-official==2.3.0->tflite-model-maker) (4.2.4)\n",
            "Requirement already satisfied: google-resumable-media!=0.4.0,<0.5.0dev,>=0.3.1 in /usr/local/lib/python3.7/dist-packages (from google-cloud-bigquery>=0.31.0->tf-models-official==2.3.0->tflite-model-maker) (0.4.1)\n",
            "Requirement already satisfied: google-cloud-core<2.0dev,>=1.0.3 in /usr/local/lib/python3.7/dist-packages (from google-cloud-bigquery>=0.31.0->tf-models-official==2.3.0->tflite-model-maker) (1.0.3)\n",
            "Requirement already satisfied: certifi in /usr/local/lib/python3.7/dist-packages (from kaggle>=1.3.9->tf-models-official==2.3.0->tflite-model-maker) (2022.5.18.1)\n",
            "Requirement already satisfied: python-slugify in /usr/local/lib/python3.7/dist-packages (from kaggle>=1.3.9->tf-models-official==2.3.0->tflite-model-maker) (6.1.2)\n",
            "Requirement already satisfied: python-dateutil in /usr/local/lib/python3.7/dist-packages (from kaggle>=1.3.9->tf-models-official==2.3.0->tflite-model-maker) (2.8.2)\n",
            "Requirement already satisfied: tqdm in /usr/local/lib/python3.7/dist-packages (from kaggle>=1.3.9->tf-models-official==2.3.0->tflite-model-maker) (4.64.0)\n",
            "Requirement already satisfied: kiwisolver>=1.0.1 in /usr/local/lib/python3.7/dist-packages (from matplotlib<3.5.0,>=3.0.3->tflite-model-maker) (1.4.2)\n",
            "Requirement already satisfied: cycler>=0.10 in /usr/local/lib/python3.7/dist-packages (from matplotlib<3.5.0,>=3.0.3->tflite-model-maker) (0.11.0)\n",
            "Requirement already satisfied: pyparsing!=2.0.4,!=2.1.2,!=2.1.6,>=2.0.1 in /usr/local/lib/python3.7/dist-packages (from matplotlib<3.5.0,>=3.0.3->tflite-model-maker) (3.0.9)\n",
            "Requirement already satisfied: typing-extensions in /usr/local/lib/python3.7/dist-packages (from kiwisolver>=1.0.1->matplotlib<3.5.0,>=3.0.3->tflite-model-maker) (4.2.0)\n",
            "Requirement already satisfied: attrs in /usr/local/lib/python3.7/dist-packages (from neural-structured-learning>=1.3.1->tflite-model-maker) (21.4.0)\n",
            "Requirement already satisfied: appdirs>=1.3.0 in /usr/local/lib/python3.7/dist-packages (from pooch>=1.0->librosa==0.8.1->tflite-model-maker) (1.4.4)\n",
            "Requirement already satisfied: pyasn1<0.5.0,>=0.4.6 in /usr/local/lib/python3.7/dist-packages (from pyasn1-modules>=0.2.1->google-auth<3dev,>=1.16.0->google-api-python-client>=1.6.7->tf-models-official==2.3.0->tflite-model-maker) (0.4.8)\n",
            "Requirement already satisfied: chardet<4,>=3.0.2 in /usr/local/lib/python3.7/dist-packages (from requests<3.0.0dev,>=2.18.0->google-api-core<3dev,>=1.21.0->google-api-python-client>=1.6.7->tf-models-official==2.3.0->tflite-model-maker) (3.0.4)\n",
            "Requirement already satisfied: idna<3,>=2.5 in /usr/local/lib/python3.7/dist-packages (from requests<3.0.0dev,>=2.18.0->google-api-core<3dev,>=1.21.0->google-api-python-client>=1.6.7->tf-models-official==2.3.0->tflite-model-maker) (2.10)\n",
            "Requirement already satisfied: threadpoolctl>=2.0.0 in /usr/local/lib/python3.7/dist-packages (from scikit-learn!=0.19.0,>=0.14.0->librosa==0.8.1->tflite-model-maker) (3.1.0)\n",
            "Requirement already satisfied: cffi>=1.0 in /usr/local/lib/python3.7/dist-packages (from soundfile>=0.10.2->librosa==0.8.1->tflite-model-maker) (1.15.0)\n",
            "Requirement already satisfied: pycparser in /usr/local/lib/python3.7/dist-packages (from cffi>=1.0->soundfile>=0.10.2->librosa==0.8.1->tflite-model-maker) (2.21)\n",
            "Requirement already satisfied: keras<2.9,>=2.8.0rc0 in /usr/local/lib/python3.7/dist-packages (from tensorflow>=2.6.0->tflite-model-maker) (2.8.0)\n",
            "Requirement already satisfied: google-pasta>=0.1.1 in /usr/local/lib/python3.7/dist-packages (from tensorflow>=2.6.0->tflite-model-maker) (0.2.0)\n",
            "Requirement already satisfied: opt-einsum>=2.3.2 in /usr/local/lib/python3.7/dist-packages (from tensorflow>=2.6.0->tflite-model-maker) (3.3.0)\n",
            "Requirement already satisfied: tensorflow-io-gcs-filesystem>=0.23.1 in /usr/local/lib/python3.7/dist-packages (from tensorflow>=2.6.0->tflite-model-maker) (0.26.0)\n",
            "Requirement already satisfied: libclang>=9.0.1 in /usr/local/lib/python3.7/dist-packages (from tensorflow>=2.6.0->tflite-model-maker) (14.0.1)\n",
            "Requirement already satisfied: grpcio<2.0,>=1.24.3 in /usr/local/lib/python3.7/dist-packages (from tensorflow>=2.6.0->tflite-model-maker) (1.46.3)\n",
            "Requirement already satisfied: h5py>=2.9.0 in /usr/local/lib/python3.7/dist-packages (from tensorflow>=2.6.0->tflite-model-maker) (3.1.0)\n",
            "Requirement already satisfied: gast>=0.2.1 in /usr/local/lib/python3.7/dist-packages (from tensorflow>=2.6.0->tflite-model-maker) (0.5.3)\n",
            "Requirement already satisfied: tensorflow-estimator<2.9,>=2.8 in /usr/local/lib/python3.7/dist-packages (from tensorflow>=2.6.0->tflite-model-maker) (2.8.0)\n",
            "Requirement already satisfied: astunparse>=1.6.0 in /usr/local/lib/python3.7/dist-packages (from tensorflow>=2.6.0->tflite-model-maker) (1.6.3)\n",
            "Requirement already satisfied: wrapt>=1.11.0 in /usr/local/lib/python3.7/dist-packages (from tensorflow>=2.6.0->tflite-model-maker) (1.14.1)\n",
            "Requirement already satisfied: keras-preprocessing>=1.1.1 in /usr/local/lib/python3.7/dist-packages (from tensorflow>=2.6.0->tflite-model-maker) (1.1.2)\n",
            "Requirement already satisfied: tensorboard<2.9,>=2.8 in /usr/local/lib/python3.7/dist-packages (from tensorflow>=2.6.0->tflite-model-maker) (2.8.0)\n",
            "Requirement already satisfied: wheel<1.0,>=0.23.0 in /usr/local/lib/python3.7/dist-packages (from astunparse>=1.6.0->tensorflow>=2.6.0->tflite-model-maker) (0.37.1)\n",
            "Requirement already satisfied: cached-property in /usr/local/lib/python3.7/dist-packages (from h5py>=2.9.0->tensorflow>=2.6.0->tflite-model-maker) (1.5.2)\n",
            "Requirement already satisfied: google-auth-oauthlib<0.5,>=0.4.1 in /usr/local/lib/python3.7/dist-packages (from tensorboard<2.9,>=2.8->tensorflow>=2.6.0->tflite-model-maker) (0.4.6)\n",
            "Requirement already satisfied: werkzeug>=0.11.15 in /usr/local/lib/python3.7/dist-packages (from tensorboard<2.9,>=2.8->tensorflow>=2.6.0->tflite-model-maker) (1.0.1)\n",
            "Requirement already satisfied: markdown>=2.6.8 in /usr/local/lib/python3.7/dist-packages (from tensorboard<2.9,>=2.8->tensorflow>=2.6.0->tflite-model-maker) (3.3.7)\n",
            "Requirement already satisfied: tensorboard-plugin-wit>=1.6.0 in /usr/local/lib/python3.7/dist-packages (from tensorboard<2.9,>=2.8->tensorflow>=2.6.0->tflite-model-maker) (1.8.1)\n",
            "Requirement already satisfied: tensorboard-data-server<0.7.0,>=0.6.0 in /usr/local/lib/python3.7/dist-packages (from tensorboard<2.9,>=2.8->tensorflow>=2.6.0->tflite-model-maker) (0.6.1)\n",
            "Requirement already satisfied: requests-oauthlib>=0.7.0 in /usr/local/lib/python3.7/dist-packages (from google-auth-oauthlib<0.5,>=0.4.1->tensorboard<2.9,>=2.8->tensorflow>=2.6.0->tflite-model-maker) (1.3.1)\n",
            "Requirement already satisfied: importlib-metadata>=4.4 in /usr/local/lib/python3.7/dist-packages (from markdown>=2.6.8->tensorboard<2.9,>=2.8->tensorflow>=2.6.0->tflite-model-maker) (4.11.4)\n",
            "Requirement already satisfied: zipp>=0.5 in /usr/local/lib/python3.7/dist-packages (from importlib-metadata>=4.4->markdown>=2.6.8->tensorboard<2.9,>=2.8->tensorflow>=2.6.0->tflite-model-maker) (3.8.0)\n",
            "Requirement already satisfied: oauthlib>=3.0.0 in /usr/local/lib/python3.7/dist-packages (from requests-oauthlib>=0.7.0->google-auth-oauthlib<0.5,>=0.4.1->tensorboard<2.9,>=2.8->tensorflow>=2.6.0->tflite-model-maker) (3.2.0)\n",
            "Requirement already satisfied: typeguard>=2.7 in /usr/local/lib/python3.7/dist-packages (from tensorflow-addons>=0.11.2->tflite-model-maker) (2.7.1)\n",
            "Requirement already satisfied: dill in /usr/local/lib/python3.7/dist-packages (from tensorflow-datasets>=2.1.0->tflite-model-maker) (0.3.5.1)\n",
            "Requirement already satisfied: tensorflow-metadata in /usr/local/lib/python3.7/dist-packages (from tensorflow-datasets>=2.1.0->tflite-model-maker) (1.8.0)\n",
            "Requirement already satisfied: dm-tree in /usr/local/lib/python3.7/dist-packages (from tensorflow-datasets>=2.1.0->tflite-model-maker) (0.1.7)\n",
            "Requirement already satisfied: future in /usr/local/lib/python3.7/dist-packages (from tensorflow-datasets>=2.1.0->tflite-model-maker) (0.16.0)\n",
            "Requirement already satisfied: promise in /usr/local/lib/python3.7/dist-packages (from tensorflow-datasets>=2.1.0->tflite-model-maker) (2.3)\n",
            "Requirement already satisfied: importlib-resources in /usr/local/lib/python3.7/dist-packages (from tensorflow-datasets>=2.1.0->tflite-model-maker) (5.7.1)\n",
            "Requirement already satisfied: sounddevice>=0.4.4 in /usr/local/lib/python3.7/dist-packages (from tflite-support>=0.4.0->tflite-model-maker) (0.4.4)\n",
            "Requirement already satisfied: pybind11>=2.6.0 in /usr/local/lib/python3.7/dist-packages (from tflite-support>=0.4.0->tflite-model-maker) (2.9.2)\n",
            "Requirement already satisfied: text-unidecode>=1.3 in /usr/local/lib/python3.7/dist-packages (from python-slugify->kaggle>=1.3.9->tf-models-official==2.3.0->tflite-model-maker) (1.3)\n"
          ]
        }
      ],
      "source": [
        "!pip install tflite-model-maker"
      ]
    },
    {
      "cell_type": "code",
      "source": [
        "import numpy as np\n",
        "\n",
        "import tensorflow as tf\n",
        "assert tf.__version__.startswith('2')\n",
        "\n",
        "from tflite_model_maker import model_spec\n",
        "from tflite_model_maker import image_classifier\n",
        "from tflite_model_maker.image_classifier import DataLoader"
      ],
      "metadata": {
        "id": "ymSGyS2lvtZz"
      },
      "execution_count": null,
      "outputs": []
    },
    {
      "cell_type": "code",
      "source": [
        "data = DataLoader.from_folder('./MSDS462-Griser/mushrooms_imagenet_more/imagenet')\n",
        "train_data, test_data = data.split(0.85)"
      ],
      "metadata": {
        "colab": {
          "base_uri": "https://localhost:8080/"
        },
        "id": "aym0u6U3vwOR",
        "outputId": "65453ea5-9e7b-4e73-a462-bb3a5531a6c0"
      },
      "execution_count": null,
      "outputs": [
        {
          "output_type": "stream",
          "name": "stdout",
          "text": [
            "INFO:tensorflow:Load image with size: 9053, num_label: 72, labels: Aleuria aurantia, Boletus chrysenteron, Boletus edulis, Fuscoboletinus paluster, Fuscoboletinus serotinus, Gyromitra esculenta, Helvella crispa, Jew_s-ear, Morchella semilibera, Pholiota squarrosa, Polyporus squamosus, Sarcoscypha coccinea, Scleroderma citrinum, Verpa bohemica, basidiomycete, beefsteak fungus, bird_s-nest fungus, black morel, blewits, blushing mushroom, chanterelle, club fungus, common morel, common stinkhorn, dead-man_s-fingers, death cap, deer mushroom, destroying angel, dog stinkhorn, earthball, earthstar, elf cup, fairy-ring mushroom, false deathcap, false morel, fly agaric, gasteromycete, giant puffball, gyromitra, helvella, hen-of-the-woods, honey mushroom, horse mushroom, inky cap, jack-o-lantern fungus, jelly fungus, lepiota, meadow mushroom, milkcap, morel, mushroom, nameko, old-man-of-the-woods, oyster mushroom, parasol mushroom, puffball, royal agaric, sac fungus, sandy mushroom, shaggymane, shiitake, snow mushroom, stalked puffball, stinkhorn, straw mushroom, toadstool, tooth fungus, truffle, waxycap, white fungus, winter mushroom, witches_ butter.\n"
          ]
        }
      ]
    },
    {
      "cell_type": "code",
      "source": [
        "model = image_classifier.create(train_data,epochs=50)"
      ],
      "metadata": {
        "colab": {
          "base_uri": "https://localhost:8080/"
        },
        "id": "p37r0Yz_v_YP",
        "outputId": "8c6841d1-1866-428f-868a-ba2dcf587cfa"
      },
      "execution_count": null,
      "outputs": [
        {
          "metadata": {
            "tags": null
          },
          "name": "stdout",
          "output_type": "stream",
          "text": [
            "INFO:tensorflow:Retraining the models...\n",
            "Model: \"sequential\"\n",
            "_________________________________________________________________\n",
            " Layer (type)                Output Shape              Param #   \n",
            "=================================================================\n",
            " hub_keras_layer_v1v2 (HubKe  (None, 1280)             3413024   \n",
            " rasLayerV1V2)                                                   \n",
            "                                                                 \n",
            " dropout (Dropout)           (None, 1280)              0         \n",
            "                                                                 \n",
            " dense (Dense)               (None, 72)                92232     \n",
            "                                                                 \n",
            "=================================================================\n",
            "Total params: 3,505,256\n",
            "Trainable params: 92,232\n",
            "Non-trainable params: 3,413,024\n",
            "_________________________________________________________________\n",
            "None\n",
            "Epoch 1/50\n"
          ]
        },
        {
          "metadata": {
            "tags": null
          },
          "name": "stderr",
          "output_type": "stream",
          "text": [
            "/usr/local/lib/python3.7/dist-packages/keras/optimizer_v2/gradient_descent.py:102: UserWarning: The `lr` argument is deprecated, use `learning_rate` instead.\n",
            "  super(SGD, self).__init__(name, **kwargs)\n"
          ]
        },
        {
          "output_type": "stream",
          "name": "stdout",
          "text": [
            "240/240 [==============================] - 294s 1s/step - loss: 3.3454 - accuracy: 0.2473\n",
            "Epoch 2/50\n",
            "240/240 [==============================] - 294s 1s/step - loss: 2.6624 - accuracy: 0.3814\n",
            "Epoch 3/50\n",
            "240/240 [==============================] - 291s 1s/step - loss: 2.4495 - accuracy: 0.4388\n",
            "Epoch 4/50\n",
            "240/240 [==============================] - 295s 1s/step - loss: 2.3337 - accuracy: 0.4630\n",
            "Epoch 5/50\n",
            "240/240 [==============================] - 294s 1s/step - loss: 2.2482 - accuracy: 0.4911\n",
            "Epoch 6/50\n",
            "240/240 [==============================] - 295s 1s/step - loss: 2.1889 - accuracy: 0.5145\n",
            "Epoch 7/50\n",
            "240/240 [==============================] - 294s 1s/step - loss: 2.1369 - accuracy: 0.5352\n",
            "Epoch 8/50\n",
            "240/240 [==============================] - 293s 1s/step - loss: 2.0957 - accuracy: 0.5486\n",
            "Epoch 9/50\n",
            "240/240 [==============================] - 294s 1s/step - loss: 2.0590 - accuracy: 0.5585\n",
            "Epoch 10/50\n",
            "240/240 [==============================] - 295s 1s/step - loss: 2.0230 - accuracy: 0.5746\n",
            "Epoch 11/50\n",
            "240/240 [==============================] - 295s 1s/step - loss: 1.9983 - accuracy: 0.5845\n",
            "Epoch 12/50\n",
            "240/240 [==============================] - 295s 1s/step - loss: 1.9757 - accuracy: 0.5906\n",
            "Epoch 13/50\n",
            "240/240 [==============================] - 294s 1s/step - loss: 1.9453 - accuracy: 0.6059\n",
            "Epoch 14/50\n",
            "240/240 [==============================] - 294s 1s/step - loss: 1.9291 - accuracy: 0.6100\n",
            "Epoch 15/50\n",
            "240/240 [==============================] - 295s 1s/step - loss: 1.9115 - accuracy: 0.6174\n",
            "Epoch 16/50\n",
            "240/240 [==============================] - 299s 1s/step - loss: 1.8919 - accuracy: 0.6280\n",
            "Epoch 17/50\n",
            "240/240 [==============================] - 296s 1s/step - loss: 1.8782 - accuracy: 0.6320\n",
            "Epoch 18/50\n",
            "240/240 [==============================] - 295s 1s/step - loss: 1.8539 - accuracy: 0.6408\n",
            "Epoch 19/50\n",
            "240/240 [==============================] - 294s 1s/step - loss: 1.8400 - accuracy: 0.6490\n",
            "Epoch 20/50\n",
            "240/240 [==============================] - 294s 1s/step - loss: 1.8281 - accuracy: 0.6538\n",
            "Epoch 21/50\n",
            "240/240 [==============================] - 294s 1s/step - loss: 1.8210 - accuracy: 0.6564\n",
            "Epoch 22/50\n",
            "240/240 [==============================] - 294s 1s/step - loss: 1.8034 - accuracy: 0.6620\n",
            "Epoch 23/50\n",
            "240/240 [==============================] - 293s 1s/step - loss: 1.7966 - accuracy: 0.6633\n",
            "Epoch 24/50\n",
            "240/240 [==============================] - 294s 1s/step - loss: 1.7833 - accuracy: 0.6725\n",
            "Epoch 25/50\n",
            "240/240 [==============================] - 294s 1s/step - loss: 1.7750 - accuracy: 0.6767\n",
            "Epoch 26/50\n",
            "240/240 [==============================] - 294s 1s/step - loss: 1.7708 - accuracy: 0.6799\n",
            "Epoch 27/50\n",
            "240/240 [==============================] - 293s 1s/step - loss: 1.7524 - accuracy: 0.6822\n",
            "Epoch 28/50\n",
            "240/240 [==============================] - 293s 1s/step - loss: 1.7518 - accuracy: 0.6833\n",
            "Epoch 29/50\n",
            "240/240 [==============================] - 293s 1s/step - loss: 1.7389 - accuracy: 0.6919\n",
            "Epoch 30/50\n",
            "240/240 [==============================] - 291s 1s/step - loss: 1.7359 - accuracy: 0.6857\n",
            "Epoch 31/50\n",
            "240/240 [==============================] - 292s 1s/step - loss: 1.7288 - accuracy: 0.6922\n",
            "Epoch 32/50\n",
            "240/240 [==============================] - 291s 1s/step - loss: 1.7187 - accuracy: 0.6945\n",
            "Epoch 33/50\n",
            "240/240 [==============================] - 292s 1s/step - loss: 1.7133 - accuracy: 0.7008\n",
            "Epoch 34/50\n",
            "240/240 [==============================] - 291s 1s/step - loss: 1.7059 - accuracy: 0.7074\n",
            "Epoch 35/50\n",
            "240/240 [==============================] - 291s 1s/step - loss: 1.7007 - accuracy: 0.7026\n",
            "Epoch 36/50\n",
            "240/240 [==============================] - 292s 1s/step - loss: 1.6920 - accuracy: 0.7116\n",
            "Epoch 37/50\n",
            "240/240 [==============================] - 291s 1s/step - loss: 1.6813 - accuracy: 0.7160\n",
            "Epoch 38/50\n",
            "240/240 [==============================] - 292s 1s/step - loss: 1.6765 - accuracy: 0.7121\n",
            "Epoch 39/50\n",
            "240/240 [==============================] - 293s 1s/step - loss: 1.6807 - accuracy: 0.7129\n",
            "Epoch 40/50\n",
            "240/240 [==============================] - 291s 1s/step - loss: 1.6685 - accuracy: 0.7186\n",
            "Epoch 41/50\n",
            "240/240 [==============================] - 293s 1s/step - loss: 1.6684 - accuracy: 0.7154\n",
            "Epoch 42/50\n",
            "240/240 [==============================] - 294s 1s/step - loss: 1.6591 - accuracy: 0.7242\n",
            "Epoch 43/50\n",
            "240/240 [==============================] - 293s 1s/step - loss: 1.6576 - accuracy: 0.7238\n",
            "Epoch 44/50\n",
            "240/240 [==============================] - 293s 1s/step - loss: 1.6556 - accuracy: 0.7215\n",
            "Epoch 45/50\n",
            "240/240 [==============================] - 293s 1s/step - loss: 1.6493 - accuracy: 0.7246\n",
            "Epoch 46/50\n",
            "240/240 [==============================] - 293s 1s/step - loss: 1.6486 - accuracy: 0.7271\n",
            "Epoch 47/50\n",
            "240/240 [==============================] - 294s 1s/step - loss: 1.6461 - accuracy: 0.7307\n",
            "Epoch 48/50\n",
            "240/240 [==============================] - 293s 1s/step - loss: 1.6418 - accuracy: 0.7303\n",
            "Epoch 49/50\n",
            "240/240 [==============================] - 293s 1s/step - loss: 1.6327 - accuracy: 0.7392\n",
            "Epoch 50/50\n",
            "240/240 [==============================] - 293s 1s/step - loss: 1.6340 - accuracy: 0.7355\n"
          ]
        }
      ]
    },
    {
      "cell_type": "code",
      "source": [
        "model.export(export_dir='.', with_metadata=False)"
      ],
      "metadata": {
        "id": "Kr8u4qboH2zr",
        "colab": {
          "base_uri": "https://localhost:8080/"
        },
        "outputId": "3e89c896-c372-406b-b1fb-d895c4d6b22a"
      },
      "execution_count": null,
      "outputs": [
        {
          "output_type": "stream",
          "name": "stdout",
          "text": [
            "INFO:tensorflow:Assets written to: /tmp/tmp2t4moz6f/assets\n"
          ]
        },
        {
          "output_type": "stream",
          "name": "stderr",
          "text": [
            "INFO:tensorflow:Assets written to: /tmp/tmp2t4moz6f/assets\n",
            "/usr/local/lib/python3.7/dist-packages/tensorflow/lite/python/convert.py:746: UserWarning: Statistics for quantized inputs were expected, but not specified; continuing anyway.\n",
            "  warnings.warn(\"Statistics for quantized inputs were expected, but not \"\n"
          ]
        },
        {
          "output_type": "stream",
          "name": "stdout",
          "text": [
            "INFO:tensorflow:TensorFlow Lite model exported successfully: ./model.tflite\n"
          ]
        },
        {
          "output_type": "stream",
          "name": "stderr",
          "text": [
            "INFO:tensorflow:TensorFlow Lite model exported successfully: ./model.tflite\n"
          ]
        },
        {
          "output_type": "stream",
          "name": "stdout",
          "text": [
            "INFO:tensorflow:Saving labels in ./labels.txt\n"
          ]
        },
        {
          "output_type": "stream",
          "name": "stderr",
          "text": [
            "INFO:tensorflow:Saving labels in ./labels.txt\n"
          ]
        }
      ]
    },
    {
      "cell_type": "code",
      "source": [
        "loss, accuracy = model.evaluate(test_data)"
      ],
      "metadata": {
        "id": "xzN28_uiwDZI",
        "colab": {
          "base_uri": "https://localhost:8080/"
        },
        "outputId": "5064555d-b82a-4abc-dcbf-7d22914ed2d1"
      },
      "execution_count": null,
      "outputs": [
        {
          "output_type": "stream",
          "name": "stdout",
          "text": [
            "43/43 [==============================] - 64s 1s/step - loss: 2.5590 - accuracy: 0.3969\n"
          ]
        }
      ]
    },
    {
      "cell_type": "code",
      "source": [
        ""
      ],
      "metadata": {
        "id": "hGBocJelwyfC"
      },
      "execution_count": null,
      "outputs": []
    }
  ]
}